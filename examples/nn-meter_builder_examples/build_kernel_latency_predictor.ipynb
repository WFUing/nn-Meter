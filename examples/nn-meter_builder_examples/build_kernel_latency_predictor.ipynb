{
 "cells": [
  {
   "cell_type": "markdown",
   "metadata": {},
   "source": [
    "# Build Kernel Latency Predictor\n",
    "Users could refer to the [Guidance](../../docs/builder/build_kernel_latency_predictor.md) for details information."
   ]
  },
  {
   "cell_type": "code",
   "metadata": {
    "ExecuteTime": {
     "end_time": "2024-11-27T07:00:14.972174Z",
     "start_time": "2024-11-27T07:00:13.773996Z"
    }
   },
   "source": [
    "import warnings\n",
    "from silence_tensorflow import silence_tensorflow\n",
    "warnings.filterwarnings('ignore')\n",
    "silence_tensorflow()"
   ],
   "outputs": [],
   "execution_count": 1
  },
  {
   "metadata": {
    "ExecuteTime": {
     "end_time": "2024-10-28T03:10:54.477133Z",
     "start_time": "2024-10-28T03:10:54.222135Z"
    }
   },
   "cell_type": "code",
   "source": [
    "import tensorflow as tf\n",
    "\n",
    "# 加载模型\n",
    "with tf.io.gfile.GFile('/home/wds/zhitai/graduate/projects/nn-Meter/data/pb_models/resnet18_0.pb', 'rb') as f:\n",
    "    graph_def = tf.compat.v1.GraphDef()\n",
    "    graph_def.ParseFromString(f.read())\n",
    "\n",
    "# 打印模型的层次结构\n",
    "for node in graph_def.node:\n",
    "    print(node.name, node.op)"
   ],
   "outputs": [
    {
     "name": "stdout",
     "output_type": "stream",
     "text": [
      "input_im_0 Placeholder\n",
      "conv1.conv/weight Const\n",
      "conv1.conv/weight/read Identity\n",
      "conv1.conv/Conv2D Conv2D\n",
      "conv1.bn.batchnorm/BatchNorm/beta Const\n",
      "conv1.bn.batchnorm/BatchNorm/beta/read Identity\n",
      "conv1.bn.batchnorm/BatchNorm/gamma Const\n",
      "conv1.bn.batchnorm/BatchNorm/gamma/read Identity\n",
      "conv1.bn.batchnorm/BatchNorm/moving_mean Const\n",
      "conv1.bn.batchnorm/BatchNorm/moving_mean/read Identity\n",
      "conv1.bn.batchnorm/BatchNorm/moving_variance Const\n",
      "conv1.bn.batchnorm/BatchNorm/moving_variance/read Identity\n",
      "conv1.bn.batchnorm/BatchNorm/FusedBatchNormV3 FusedBatchNorm\n",
      "conv1.relu.relu/Relu Relu\n",
      "conv1.maxpool/maxpool MaxPool\n",
      "layer3.1.conv/weight Const\n",
      "layer3.1.conv/weight/read Identity\n",
      "layer3.1.conv/Conv2D Conv2D\n",
      "layer3.1.batchnorm/BatchNorm/beta Const\n",
      "layer3.1.batchnorm/BatchNorm/beta/read Identity\n",
      "layer3.1.batchnorm/BatchNorm/gamma Const\n",
      "layer3.1.batchnorm/BatchNorm/gamma/read Identity\n",
      "layer3.1.batchnorm/BatchNorm/moving_mean Const\n",
      "layer3.1.batchnorm/BatchNorm/moving_mean/read Identity\n",
      "layer3.1.batchnorm/BatchNorm/moving_variance Const\n",
      "layer3.1.batchnorm/BatchNorm/moving_variance/read Identity\n",
      "layer3.1.batchnorm/BatchNorm/FusedBatchNormV3 FusedBatchNorm\n",
      "layer3.1.relu/Relu Relu\n",
      "layer3.2.conv/weight Const\n",
      "layer3.2.conv/weight/read Identity\n",
      "layer3.2.conv/Conv2D Conv2D\n",
      "layer3.2.batchnorm/BatchNorm/beta Const\n",
      "layer3.2.batchnorm/BatchNorm/beta/read Identity\n",
      "layer3.2.batchnorm/BatchNorm/gamma Const\n",
      "layer3.2.batchnorm/BatchNorm/gamma/read Identity\n",
      "layer3.2.batchnorm/BatchNorm/moving_mean Const\n",
      "layer3.2.batchnorm/BatchNorm/moving_mean/read Identity\n",
      "layer3.2.batchnorm/BatchNorm/moving_variance Const\n",
      "layer3.2.batchnorm/BatchNorm/moving_variance/read Identity\n",
      "layer3.2.batchnorm/BatchNorm/FusedBatchNormV3 FusedBatchNorm\n",
      "add Add\n",
      "layer3.4.relu/Relu Relu\n",
      "layer4.1.conv/weight Const\n",
      "layer4.1.conv/weight/read Identity\n",
      "layer4.1.conv/Conv2D Conv2D\n",
      "layer4.1.batchnorm/BatchNorm/beta Const\n",
      "layer4.1.batchnorm/BatchNorm/beta/read Identity\n",
      "layer4.1.batchnorm/BatchNorm/gamma Const\n",
      "layer4.1.batchnorm/BatchNorm/gamma/read Identity\n",
      "layer4.1.batchnorm/BatchNorm/moving_mean Const\n",
      "layer4.1.batchnorm/BatchNorm/moving_mean/read Identity\n",
      "layer4.1.batchnorm/BatchNorm/moving_variance Const\n",
      "layer4.1.batchnorm/BatchNorm/moving_variance/read Identity\n",
      "layer4.1.batchnorm/BatchNorm/FusedBatchNormV3 FusedBatchNorm\n",
      "layer4.1.relu/Relu Relu\n",
      "layer4.2.conv/weight Const\n",
      "layer4.2.conv/weight/read Identity\n",
      "layer4.2.conv/Conv2D Conv2D\n",
      "layer4.2.batchnorm/BatchNorm/beta Const\n",
      "layer4.2.batchnorm/BatchNorm/beta/read Identity\n",
      "layer4.2.batchnorm/BatchNorm/gamma Const\n",
      "layer4.2.batchnorm/BatchNorm/gamma/read Identity\n",
      "layer4.2.batchnorm/BatchNorm/moving_mean Const\n",
      "layer4.2.batchnorm/BatchNorm/moving_mean/read Identity\n",
      "layer4.2.batchnorm/BatchNorm/moving_variance Const\n",
      "layer4.2.batchnorm/BatchNorm/moving_variance/read Identity\n",
      "layer4.2.batchnorm/BatchNorm/FusedBatchNormV3 FusedBatchNorm\n",
      "add_1 Add\n",
      "layer4.4.relu/Relu Relu\n",
      "layer5.1.conv/weight Const\n",
      "layer5.1.conv/weight/read Identity\n",
      "layer5.1.conv/Conv2D Conv2D\n",
      "layer5.1.batchnorm/BatchNorm/beta Const\n",
      "layer5.1.batchnorm/BatchNorm/beta/read Identity\n",
      "layer5.1.batchnorm/BatchNorm/gamma Const\n",
      "layer5.1.batchnorm/BatchNorm/gamma/read Identity\n",
      "layer5.1.batchnorm/BatchNorm/moving_mean Const\n",
      "layer5.1.batchnorm/BatchNorm/moving_mean/read Identity\n",
      "layer5.1.batchnorm/BatchNorm/moving_variance Const\n",
      "layer5.1.batchnorm/BatchNorm/moving_variance/read Identity\n",
      "layer5.1.batchnorm/BatchNorm/FusedBatchNormV3 FusedBatchNorm\n",
      "layer5.1.relu/Relu Relu\n",
      "layer5.2.conv/weight Const\n",
      "layer5.2.conv/weight/read Identity\n",
      "layer5.2.conv/Conv2D Conv2D\n",
      "layer5.2.batchnorm/BatchNorm/beta Const\n",
      "layer5.2.batchnorm/BatchNorm/beta/read Identity\n",
      "layer5.2.batchnorm/BatchNorm/gamma Const\n",
      "layer5.2.batchnorm/BatchNorm/gamma/read Identity\n",
      "layer5.2.batchnorm/BatchNorm/moving_mean Const\n",
      "layer5.2.batchnorm/BatchNorm/moving_mean/read Identity\n",
      "layer5.2.batchnorm/BatchNorm/moving_variance Const\n",
      "layer5.2.batchnorm/BatchNorm/moving_variance/read Identity\n",
      "layer5.2.batchnorm/BatchNorm/FusedBatchNormV3 FusedBatchNorm\n",
      "layer5.0.conv/weight Const\n",
      "layer5.0.conv/weight/read Identity\n",
      "layer5.0.conv/Conv2D Conv2D\n",
      "layer5.0.batchnorm/BatchNorm/beta Const\n",
      "layer5.0.batchnorm/BatchNorm/beta/read Identity\n",
      "layer5.0.batchnorm/BatchNorm/gamma Const\n",
      "layer5.0.batchnorm/BatchNorm/gamma/read Identity\n",
      "layer5.0.batchnorm/BatchNorm/moving_mean Const\n",
      "layer5.0.batchnorm/BatchNorm/moving_mean/read Identity\n",
      "layer5.0.batchnorm/BatchNorm/moving_variance Const\n",
      "layer5.0.batchnorm/BatchNorm/moving_variance/read Identity\n",
      "layer5.0.batchnorm/BatchNorm/FusedBatchNormV3 FusedBatchNorm\n",
      "add_2 Add\n",
      "layer5.4.relu/Relu Relu\n",
      "layer6.1.conv/weight Const\n",
      "layer6.1.conv/weight/read Identity\n",
      "layer6.1.conv/Conv2D Conv2D\n",
      "layer6.1.batchnorm/BatchNorm/beta Const\n",
      "layer6.1.batchnorm/BatchNorm/beta/read Identity\n",
      "layer6.1.batchnorm/BatchNorm/gamma Const\n",
      "layer6.1.batchnorm/BatchNorm/gamma/read Identity\n",
      "layer6.1.batchnorm/BatchNorm/moving_mean Const\n",
      "layer6.1.batchnorm/BatchNorm/moving_mean/read Identity\n",
      "layer6.1.batchnorm/BatchNorm/moving_variance Const\n",
      "layer6.1.batchnorm/BatchNorm/moving_variance/read Identity\n",
      "layer6.1.batchnorm/BatchNorm/FusedBatchNormV3 FusedBatchNorm\n",
      "layer6.1.relu/Relu Relu\n",
      "layer6.2.conv/weight Const\n",
      "layer6.2.conv/weight/read Identity\n",
      "layer6.2.conv/Conv2D Conv2D\n",
      "layer6.2.batchnorm/BatchNorm/beta Const\n",
      "layer6.2.batchnorm/BatchNorm/beta/read Identity\n",
      "layer6.2.batchnorm/BatchNorm/gamma Const\n",
      "layer6.2.batchnorm/BatchNorm/gamma/read Identity\n",
      "layer6.2.batchnorm/BatchNorm/moving_mean Const\n",
      "layer6.2.batchnorm/BatchNorm/moving_mean/read Identity\n",
      "layer6.2.batchnorm/BatchNorm/moving_variance Const\n",
      "layer6.2.batchnorm/BatchNorm/moving_variance/read Identity\n",
      "layer6.2.batchnorm/BatchNorm/FusedBatchNormV3 FusedBatchNorm\n",
      "add_3 Add\n",
      "layer6.4.relu/Relu Relu\n",
      "layer7.1.conv/weight Const\n",
      "layer7.1.conv/weight/read Identity\n",
      "layer7.1.conv/Conv2D Conv2D\n",
      "layer7.1.batchnorm/BatchNorm/beta Const\n",
      "layer7.1.batchnorm/BatchNorm/beta/read Identity\n",
      "layer7.1.batchnorm/BatchNorm/gamma Const\n",
      "layer7.1.batchnorm/BatchNorm/gamma/read Identity\n",
      "layer7.1.batchnorm/BatchNorm/moving_mean Const\n",
      "layer7.1.batchnorm/BatchNorm/moving_mean/read Identity\n",
      "layer7.1.batchnorm/BatchNorm/moving_variance Const\n",
      "layer7.1.batchnorm/BatchNorm/moving_variance/read Identity\n",
      "layer7.1.batchnorm/BatchNorm/FusedBatchNormV3 FusedBatchNorm\n",
      "layer7.1.relu/Relu Relu\n",
      "layer7.2.conv/weight Const\n",
      "layer7.2.conv/weight/read Identity\n",
      "layer7.2.conv/Conv2D Conv2D\n",
      "layer7.2.batchnorm/BatchNorm/beta Const\n",
      "layer7.2.batchnorm/BatchNorm/beta/read Identity\n",
      "layer7.2.batchnorm/BatchNorm/gamma Const\n",
      "layer7.2.batchnorm/BatchNorm/gamma/read Identity\n",
      "layer7.2.batchnorm/BatchNorm/moving_mean Const\n",
      "layer7.2.batchnorm/BatchNorm/moving_mean/read Identity\n",
      "layer7.2.batchnorm/BatchNorm/moving_variance Const\n",
      "layer7.2.batchnorm/BatchNorm/moving_variance/read Identity\n",
      "layer7.2.batchnorm/BatchNorm/FusedBatchNormV3 FusedBatchNorm\n",
      "layer7.0.conv/weight Const\n",
      "layer7.0.conv/weight/read Identity\n",
      "layer7.0.conv/Conv2D Conv2D\n",
      "layer7.0.batchnorm/BatchNorm/beta Const\n",
      "layer7.0.batchnorm/BatchNorm/beta/read Identity\n",
      "layer7.0.batchnorm/BatchNorm/gamma Const\n",
      "layer7.0.batchnorm/BatchNorm/gamma/read Identity\n",
      "layer7.0.batchnorm/BatchNorm/moving_mean Const\n",
      "layer7.0.batchnorm/BatchNorm/moving_mean/read Identity\n",
      "layer7.0.batchnorm/BatchNorm/moving_variance Const\n",
      "layer7.0.batchnorm/BatchNorm/moving_variance/read Identity\n",
      "layer7.0.batchnorm/BatchNorm/FusedBatchNormV3 FusedBatchNorm\n",
      "add_4 Add\n",
      "layer7.4.relu/Relu Relu\n",
      "layer8.1.conv/weight Const\n",
      "layer8.1.conv/weight/read Identity\n",
      "layer8.1.conv/Conv2D Conv2D\n",
      "layer8.1.batchnorm/BatchNorm/beta Const\n",
      "layer8.1.batchnorm/BatchNorm/beta/read Identity\n",
      "layer8.1.batchnorm/BatchNorm/gamma Const\n",
      "layer8.1.batchnorm/BatchNorm/gamma/read Identity\n",
      "layer8.1.batchnorm/BatchNorm/moving_mean Const\n",
      "layer8.1.batchnorm/BatchNorm/moving_mean/read Identity\n",
      "layer8.1.batchnorm/BatchNorm/moving_variance Const\n",
      "layer8.1.batchnorm/BatchNorm/moving_variance/read Identity\n",
      "layer8.1.batchnorm/BatchNorm/FusedBatchNormV3 FusedBatchNorm\n",
      "layer8.1.relu/Relu Relu\n",
      "layer8.2.conv/weight Const\n",
      "layer8.2.conv/weight/read Identity\n",
      "layer8.2.conv/Conv2D Conv2D\n",
      "layer8.2.batchnorm/BatchNorm/beta Const\n",
      "layer8.2.batchnorm/BatchNorm/beta/read Identity\n",
      "layer8.2.batchnorm/BatchNorm/gamma Const\n",
      "layer8.2.batchnorm/BatchNorm/gamma/read Identity\n",
      "layer8.2.batchnorm/BatchNorm/moving_mean Const\n",
      "layer8.2.batchnorm/BatchNorm/moving_mean/read Identity\n",
      "layer8.2.batchnorm/BatchNorm/moving_variance Const\n",
      "layer8.2.batchnorm/BatchNorm/moving_variance/read Identity\n",
      "layer8.2.batchnorm/BatchNorm/FusedBatchNormV3 FusedBatchNorm\n",
      "add_5 Add\n",
      "layer8.4.relu/Relu Relu\n",
      "layer9.1.conv/weight Const\n",
      "layer9.1.conv/weight/read Identity\n",
      "layer9.1.conv/Conv2D Conv2D\n",
      "layer9.1.batchnorm/BatchNorm/beta Const\n",
      "layer9.1.batchnorm/BatchNorm/beta/read Identity\n",
      "layer9.1.batchnorm/BatchNorm/gamma Const\n",
      "layer9.1.batchnorm/BatchNorm/gamma/read Identity\n",
      "layer9.1.batchnorm/BatchNorm/moving_mean Const\n",
      "layer9.1.batchnorm/BatchNorm/moving_mean/read Identity\n",
      "layer9.1.batchnorm/BatchNorm/moving_variance Const\n",
      "layer9.1.batchnorm/BatchNorm/moving_variance/read Identity\n",
      "layer9.1.batchnorm/BatchNorm/FusedBatchNormV3 FusedBatchNorm\n",
      "layer9.1.relu/Relu Relu\n",
      "layer9.2.conv/weight Const\n",
      "layer9.2.conv/weight/read Identity\n",
      "layer9.2.conv/Conv2D Conv2D\n",
      "layer9.2.batchnorm/BatchNorm/beta Const\n",
      "layer9.2.batchnorm/BatchNorm/beta/read Identity\n",
      "layer9.2.batchnorm/BatchNorm/gamma Const\n",
      "layer9.2.batchnorm/BatchNorm/gamma/read Identity\n",
      "layer9.2.batchnorm/BatchNorm/moving_mean Const\n",
      "layer9.2.batchnorm/BatchNorm/moving_mean/read Identity\n",
      "layer9.2.batchnorm/BatchNorm/moving_variance Const\n",
      "layer9.2.batchnorm/BatchNorm/moving_variance/read Identity\n",
      "layer9.2.batchnorm/BatchNorm/FusedBatchNormV3 FusedBatchNorm\n",
      "layer9.0.conv/weight Const\n",
      "layer9.0.conv/weight/read Identity\n",
      "layer9.0.conv/Conv2D Conv2D\n",
      "layer9.0.batchnorm/BatchNorm/beta Const\n",
      "layer9.0.batchnorm/BatchNorm/beta/read Identity\n",
      "layer9.0.batchnorm/BatchNorm/gamma Const\n",
      "layer9.0.batchnorm/BatchNorm/gamma/read Identity\n",
      "layer9.0.batchnorm/BatchNorm/moving_mean Const\n",
      "layer9.0.batchnorm/BatchNorm/moving_mean/read Identity\n",
      "layer9.0.batchnorm/BatchNorm/moving_variance Const\n",
      "layer9.0.batchnorm/BatchNorm/moving_variance/read Identity\n",
      "layer9.0.batchnorm/BatchNorm/FusedBatchNormV3 FusedBatchNorm\n",
      "add_6 Add\n",
      "layer9.4.relu/Relu Relu\n",
      "layer10.1.conv/weight Const\n",
      "layer10.1.conv/weight/read Identity\n",
      "layer10.1.conv/Conv2D Conv2D\n",
      "layer10.1.batchnorm/BatchNorm/beta Const\n",
      "layer10.1.batchnorm/BatchNorm/beta/read Identity\n",
      "layer10.1.batchnorm/BatchNorm/gamma Const\n",
      "layer10.1.batchnorm/BatchNorm/gamma/read Identity\n",
      "layer10.1.batchnorm/BatchNorm/moving_mean Const\n",
      "layer10.1.batchnorm/BatchNorm/moving_mean/read Identity\n",
      "layer10.1.batchnorm/BatchNorm/moving_variance Const\n",
      "layer10.1.batchnorm/BatchNorm/moving_variance/read Identity\n",
      "layer10.1.batchnorm/BatchNorm/FusedBatchNormV3 FusedBatchNorm\n",
      "layer10.1.relu/Relu Relu\n",
      "layer10.2.conv/weight Const\n",
      "layer10.2.conv/weight/read Identity\n",
      "layer10.2.conv/Conv2D Conv2D\n",
      "layer10.2.batchnorm/BatchNorm/beta Const\n",
      "layer10.2.batchnorm/BatchNorm/beta/read Identity\n",
      "layer10.2.batchnorm/BatchNorm/gamma Const\n",
      "layer10.2.batchnorm/BatchNorm/gamma/read Identity\n",
      "layer10.2.batchnorm/BatchNorm/moving_mean Const\n",
      "layer10.2.batchnorm/BatchNorm/moving_mean/read Identity\n",
      "layer10.2.batchnorm/BatchNorm/moving_variance Const\n",
      "layer10.2.batchnorm/BatchNorm/moving_variance/read Identity\n",
      "layer10.2.batchnorm/BatchNorm/FusedBatchNormV3 FusedBatchNorm\n",
      "add_7 Add\n",
      "layer10.4.relu/Relu Relu\n",
      "Mean/reduction_indices Const\n",
      "Mean Mean\n",
      "Reshape/shape Const\n",
      "Reshape Reshape\n",
      "fc13.fc/weight Const\n",
      "fc13.fc/weight/read Identity\n",
      "fc13.fc/MatMul MatMul\n"
     ]
    }
   ],
   "execution_count": 2
  },
  {
   "cell_type": "code",
   "metadata": {
    "ExecuteTime": {
     "end_time": "2024-11-27T07:00:23.161284Z",
     "start_time": "2024-11-27T07:00:22.253676Z"
    }
   },
   "source": [
    "# initialize builder config with workspace\n",
    "from nn_meter.builder import builder_config\n",
    "workspace = \"./workspace/\"\n",
    "builder_config.init(workspace) "
   ],
   "outputs": [
    {
     "ename": "FileNotFoundError",
     "evalue": "config file in ./workspace/ not found, please create the workspace first.Docs: https://github.com/microsoft/nn-Meter/blob/main/docs/builder/overview.md#-create-workspace-",
     "output_type": "error",
     "traceback": [
      "\u001B[0;31m---------------------------------------------------------------------------\u001B[0m",
      "\u001B[0;31mFileNotFoundError\u001B[0m                         Traceback (most recent call last)",
      "File \u001B[0;32m~/anaconda3/envs/nn-meter/lib/python3.10/site-packages/nn_meter/builder/config_manager.py:54\u001B[0m, in \u001B[0;36mload_config_file\u001B[0;34m(workspace_path)\u001B[0m\n\u001B[1;32m     53\u001B[0m     backend \u001B[38;5;241m=\u001B[39m \u001B[38;5;28;01mNone\u001B[39;00m\n\u001B[0;32m---> 54\u001B[0m \u001B[38;5;28;01mwith\u001B[39;00m \u001B[38;5;28;43mopen\u001B[39;49m\u001B[43m(\u001B[49m\u001B[43mruletest_filepath\u001B[49m\u001B[43m)\u001B[49m \u001B[38;5;28;01mas\u001B[39;00m fp:\n\u001B[1;32m     55\u001B[0m     ruletest \u001B[38;5;241m=\u001B[39m yaml\u001B[38;5;241m.\u001B[39mload(fp, yaml\u001B[38;5;241m.\u001B[39mFullLoader)\n",
      "\u001B[0;31mFileNotFoundError\u001B[0m: [Errno 2] No such file or directory: './workspace/configs/ruletest_config.yaml'",
      "\nDuring handling of the above exception, another exception occurred:\n",
      "\u001B[0;31mFileNotFoundError\u001B[0m                         Traceback (most recent call last)",
      "Cell \u001B[0;32mIn[2], line 4\u001B[0m\n\u001B[1;32m      2\u001B[0m \u001B[38;5;28;01mfrom\u001B[39;00m \u001B[38;5;21;01mnn_meter\u001B[39;00m\u001B[38;5;21;01m.\u001B[39;00m\u001B[38;5;21;01mbuilder\u001B[39;00m \u001B[38;5;28;01mimport\u001B[39;00m builder_config\n\u001B[1;32m      3\u001B[0m workspace \u001B[38;5;241m=\u001B[39m \u001B[38;5;124m\"\u001B[39m\u001B[38;5;124m./workspace/\u001B[39m\u001B[38;5;124m\"\u001B[39m\n\u001B[0;32m----> 4\u001B[0m \u001B[43mbuilder_config\u001B[49m\u001B[38;5;241;43m.\u001B[39;49m\u001B[43minit\u001B[49m\u001B[43m(\u001B[49m\u001B[43mworkspace\u001B[49m\u001B[43m)\u001B[49m\n",
      "File \u001B[0;32m~/anaconda3/envs/nn-meter/lib/python3.10/site-packages/nn_meter/builder/config_manager.py:96\u001B[0m, in \u001B[0;36mConfigManager.init\u001B[0;34m(self, workspace_path)\u001B[0m\n\u001B[1;32m     94\u001B[0m \u001B[38;5;28;01mdef\u001B[39;00m \u001B[38;5;21minit\u001B[39m(\u001B[38;5;28mself\u001B[39m, workspace_path):\n\u001B[1;32m     95\u001B[0m     \u001B[38;5;28mself\u001B[39m\u001B[38;5;241m.\u001B[39mworkspace_path \u001B[38;5;241m=\u001B[39m workspace_path\n\u001B[0;32m---> 96\u001B[0m     \u001B[38;5;28;43mself\u001B[39;49m\u001B[38;5;241;43m.\u001B[39;49m\u001B[43m_load_from_config_file\u001B[49m\u001B[43m(\u001B[49m\u001B[43mworkspace_path\u001B[49m\u001B[43m)\u001B[49m\n",
      "File \u001B[0;32m~/anaconda3/envs/nn-meter/lib/python3.10/site-packages/nn_meter/builder/config_manager.py:99\u001B[0m, in \u001B[0;36mConfigManager._load_from_config_file\u001B[0;34m(self, workspace_path)\u001B[0m\n\u001B[1;32m     98\u001B[0m \u001B[38;5;28;01mdef\u001B[39;00m \u001B[38;5;21m_load_from_config_file\u001B[39m(\u001B[38;5;28mself\u001B[39m, workspace_path):\n\u001B[0;32m---> 99\u001B[0m     backend, ruletest, predbuild \u001B[38;5;241m=\u001B[39m \u001B[43mload_config_file\u001B[49m\u001B[43m(\u001B[49m\u001B[43mworkspace_path\u001B[49m\u001B[43m)\u001B[49m\n\u001B[1;32m    100\u001B[0m     \u001B[38;5;28mself\u001B[39m\u001B[38;5;241m.\u001B[39mset_module(backend, \u001B[38;5;124m'\u001B[39m\u001B[38;5;124mbackend\u001B[39m\u001B[38;5;124m'\u001B[39m)\n\u001B[1;32m    101\u001B[0m     \u001B[38;5;28mself\u001B[39m\u001B[38;5;241m.\u001B[39mset_module(ruletest, \u001B[38;5;124m'\u001B[39m\u001B[38;5;124mruletest\u001B[39m\u001B[38;5;124m'\u001B[39m)\n",
      "File \u001B[0;32m~/anaconda3/envs/nn-meter/lib/python3.10/site-packages/nn_meter/builder/config_manager.py:60\u001B[0m, in \u001B[0;36mload_config_file\u001B[0;34m(workspace_path)\u001B[0m\n\u001B[1;32m     58\u001B[0m     \u001B[38;5;28;01mreturn\u001B[39;00m backend, ruletest, predictorbuild\n\u001B[1;32m     59\u001B[0m \u001B[38;5;28;01mexcept\u001B[39;00m:\n\u001B[0;32m---> 60\u001B[0m     \u001B[38;5;28;01mraise\u001B[39;00m \u001B[38;5;167;01mFileNotFoundError\u001B[39;00m(\u001B[38;5;124mf\u001B[39m\u001B[38;5;124m\"\u001B[39m\u001B[38;5;124mconfig file in \u001B[39m\u001B[38;5;132;01m{\u001B[39;00mworkspace_path\u001B[38;5;132;01m}\u001B[39;00m\u001B[38;5;124m not found, please create the workspace first.\u001B[39m\u001B[38;5;124m\"\u001B[39m \\\n\u001B[1;32m     61\u001B[0m                             \u001B[38;5;124m\"\u001B[39m\u001B[38;5;124mDocs: https://github.com/microsoft/nn-Meter/blob/main/docs/builder/overview.md#-create-workspace-\u001B[39m\u001B[38;5;124m\"\u001B[39m)\n",
      "\u001B[0;31mFileNotFoundError\u001B[0m: config file in ./workspace/ not found, please create the workspace first.Docs: https://github.com/microsoft/nn-Meter/blob/main/docs/builder/overview.md#-create-workspace-"
     ]
    }
   ],
   "execution_count": 2
  },
  {
   "cell_type": "code",
   "metadata": {
    "ExecuteTime": {
     "end_time": "2024-10-27T11:38:13.600955Z",
     "start_time": "2024-10-27T11:38:13.597666Z"
    }
   },
   "source": [
    "# define experiment parameters\n",
    "kernel_type = \"conv-bn-relu\"\n",
    "backend = \"debug_backend\"\n",
    "mark = \"test\"\n",
    "error_threshold = 0.1"
   ],
   "outputs": [],
   "execution_count": 3
  },
  {
   "cell_type": "markdown",
   "metadata": {},
   "source": [
    "nn-Meter provides APIs from different level to build the latency predictor. The finest grain of APIs initialize the predictor by random sampling, and apply adaptive sampling based on previous data. Here is an example:"
   ]
  },
  {
   "cell_type": "code",
   "metadata": {
    "ExecuteTime": {
     "end_time": "2024-10-27T11:38:15.334886Z",
     "start_time": "2024-10-27T11:38:14.893173Z"
    }
   },
   "source": [
    "from nn_meter.builder import build_initial_predictor_by_data, build_adaptive_predictor_by_data\n",
    "\n",
    "# initialize kernel latency predictor\n",
    "predictor, data = build_initial_predictor_by_data(\n",
    "    kernel_type, backend, init_sample_num=10, mark=mark\n",
    ")"
   ],
   "outputs": [
    {
     "name": "stdout",
     "output_type": "stream",
     "text": [
      "(nn-Meter) building kernel for conv-bn-relu...\n",
      "(nn-Meter) Generate 9 kernels and save info to ./workspace/predictor_build/results/conv-bn-relu_prior_test.json Failed information are saved in ./workspace/predictor_build/results/generate_error.log (if any).\n",
      "(nn-Meter) Generate 9 kernels with kernels model saved in ./workspace/predictor_build/kernels.\n",
      "(nn-Meter) Profiling ...\n",
      "(nn-Meter) All 0 models profiling complete. Save all success profiled results to ./workspace/predictor_build/results/profiled_conv-bn-relu.json Failed information are saved in ./workspace/predictor_build/results/profile_error.log (if any)\n"
     ]
    },
    {
     "ename": "ValueError",
     "evalue": "Didn't find any data of conv-bn-relu for predictor training. There maybe some error about model profiling. Please check the profiling error in `<workspace>/predictor_build/results/profile_error.log`",
     "output_type": "error",
     "traceback": [
      "\u001B[0;31m---------------------------------------------------------------------------\u001B[0m",
      "\u001B[0;31mValueError\u001B[0m                                Traceback (most recent call last)",
      "Cell \u001B[0;32mIn[4], line 4\u001B[0m\n\u001B[1;32m      1\u001B[0m \u001B[38;5;28;01mfrom\u001B[39;00m \u001B[38;5;21;01mnn_meter\u001B[39;00m\u001B[38;5;21;01m.\u001B[39;00m\u001B[38;5;21;01mbuilder\u001B[39;00m \u001B[38;5;28;01mimport\u001B[39;00m build_initial_predictor_by_data, build_adaptive_predictor_by_data\n\u001B[1;32m      3\u001B[0m \u001B[38;5;66;03m# initialize kernel latency predictor\u001B[39;00m\n\u001B[0;32m----> 4\u001B[0m predictor, data \u001B[38;5;241m=\u001B[39m \u001B[43mbuild_initial_predictor_by_data\u001B[49m\u001B[43m(\u001B[49m\n\u001B[1;32m      5\u001B[0m \u001B[43m    \u001B[49m\u001B[43mkernel_type\u001B[49m\u001B[43m,\u001B[49m\u001B[43m \u001B[49m\u001B[43mbackend\u001B[49m\u001B[43m,\u001B[49m\u001B[43m \u001B[49m\u001B[43minit_sample_num\u001B[49m\u001B[38;5;241;43m=\u001B[39;49m\u001B[38;5;241;43m10\u001B[39;49m\u001B[43m,\u001B[49m\u001B[43m \u001B[49m\u001B[43mmark\u001B[49m\u001B[38;5;241;43m=\u001B[39;49m\u001B[43mmark\u001B[49m\n\u001B[1;32m      6\u001B[0m \u001B[43m)\u001B[49m\n",
      "File \u001B[0;32m~/anaconda3/envs/nn-meter/lib/python3.10/site-packages/nn_meter/builder/nn_meter_builder.py:257\u001B[0m, in \u001B[0;36mbuild_initial_predictor_by_data\u001B[0;34m(kernel_type, backend, init_sample_num, error_threshold, mark, predict_label)\u001B[0m\n\u001B[1;32m    256\u001B[0m \u001B[38;5;28;01mdef\u001B[39;00m \u001B[38;5;21mbuild_initial_predictor_by_data\u001B[39m(kernel_type, backend \u001B[38;5;241m=\u001B[39m \u001B[38;5;28;01mNone\u001B[39;00m, init_sample_num \u001B[38;5;241m=\u001B[39m \u001B[38;5;241m20\u001B[39m, error_threshold \u001B[38;5;241m=\u001B[39m \u001B[38;5;241m0.1\u001B[39m, mark \u001B[38;5;241m=\u001B[39m \u001B[38;5;124m'\u001B[39m\u001B[38;5;124m'\u001B[39m, predict_label \u001B[38;5;241m=\u001B[39m \u001B[38;5;124m\"\u001B[39m\u001B[38;5;124mlatency\u001B[39m\u001B[38;5;124m\"\u001B[39m):\n\u001B[0;32m--> 257\u001B[0m     \u001B[38;5;28;01mreturn\u001B[39;00m \u001B[43mbuild_predictor_for_kernel\u001B[49m\u001B[43m(\u001B[49m\u001B[43mkernel_type\u001B[49m\u001B[43m,\u001B[49m\u001B[43m \u001B[49m\u001B[43mbackend\u001B[49m\u001B[43m,\u001B[49m\u001B[43m \u001B[49m\u001B[43minit_sample_num\u001B[49m\u001B[38;5;241;43m=\u001B[39;49m\u001B[43minit_sample_num\u001B[49m\u001B[43m,\u001B[49m\u001B[43m \u001B[49m\u001B[43miteration\u001B[49m\u001B[38;5;241;43m=\u001B[39;49m\u001B[38;5;241;43m1\u001B[39;49m\u001B[43m,\u001B[49m\u001B[43m \u001B[49m\u001B[43merror_threshold\u001B[49m\u001B[38;5;241;43m=\u001B[39;49m\u001B[43merror_threshold\u001B[49m\u001B[43m,\u001B[49m\u001B[43m \u001B[49m\u001B[43mpredict_label\u001B[49m\u001B[38;5;241;43m=\u001B[39;49m\u001B[43mpredict_label\u001B[49m\u001B[43m,\u001B[49m\u001B[43m \u001B[49m\u001B[43mmark\u001B[49m\u001B[38;5;241;43m=\u001B[39;49m\u001B[43mmark\u001B[49m\u001B[43m)\u001B[49m\n",
      "File \u001B[0;32m~/anaconda3/envs/nn-meter/lib/python3.10/site-packages/nn_meter/builder/nn_meter_builder.py:238\u001B[0m, in \u001B[0;36mbuild_predictor_for_kernel\u001B[0;34m(kernel_type, backend, init_sample_num, finegrained_sample_num, iteration, error_threshold, predict_label, mark)\u001B[0m\n\u001B[1;32m    235\u001B[0m kernel_data \u001B[38;5;241m=\u001B[39m sample_and_profile_kernel_data(kernel_type, init_sample_num, backend, sampling_mode\u001B[38;5;241m=\u001B[39m\u001B[38;5;124m'\u001B[39m\u001B[38;5;124mprior\u001B[39m\u001B[38;5;124m'\u001B[39m, mark\u001B[38;5;241m=\u001B[39m\u001B[38;5;124mf\u001B[39m\u001B[38;5;124m'\u001B[39m\u001B[38;5;124mprior\u001B[39m\u001B[38;5;132;01m{\u001B[39;00mmark\u001B[38;5;132;01m}\u001B[39;00m\u001B[38;5;124m'\u001B[39m)\n\u001B[1;32m    237\u001B[0m \u001B[38;5;66;03m# use current sampled data to build regression model, and locate data with large errors in testset\u001B[39;00m\n\u001B[0;32m--> 238\u001B[0m predictor, acc10, error_configs \u001B[38;5;241m=\u001B[39m \u001B[43mbuild_predictor_by_data\u001B[49m\u001B[43m(\u001B[49m\u001B[43mkernel_type\u001B[49m\u001B[43m,\u001B[49m\u001B[43m \u001B[49m\u001B[43mkernel_data\u001B[49m\u001B[43m,\u001B[49m\u001B[43m \u001B[49m\u001B[43mbackend\u001B[49m\u001B[43m,\u001B[49m\u001B[43m \u001B[49m\u001B[43merror_threshold\u001B[49m\u001B[38;5;241;43m=\u001B[39;49m\u001B[43merror_threshold\u001B[49m\u001B[43m,\u001B[49m\u001B[43m \u001B[49m\u001B[43mmark\u001B[49m\u001B[38;5;241;43m=\u001B[39;49m\u001B[38;5;124;43mf\u001B[39;49m\u001B[38;5;124;43m'\u001B[39;49m\u001B[38;5;124;43mprior\u001B[39;49m\u001B[38;5;132;43;01m{\u001B[39;49;00m\u001B[43mmark\u001B[49m\u001B[38;5;132;43;01m}\u001B[39;49;00m\u001B[38;5;124;43m'\u001B[39;49m\u001B[43m,\u001B[49m\n\u001B[1;32m    239\u001B[0m \u001B[43m                                                          \u001B[49m\u001B[43msave_path\u001B[49m\u001B[38;5;241;43m=\u001B[39;49m\u001B[43mos\u001B[49m\u001B[38;5;241;43m.\u001B[39;49m\u001B[43mpath\u001B[49m\u001B[38;5;241;43m.\u001B[39;49m\u001B[43mjoin\u001B[49m\u001B[43m(\u001B[49m\u001B[43mworkspace_path\u001B[49m\u001B[43m,\u001B[49m\u001B[43m \u001B[49m\u001B[38;5;124;43m\"\u001B[39;49m\u001B[38;5;124;43mresults\u001B[39;49m\u001B[38;5;124;43m\"\u001B[39;49m\u001B[43m)\u001B[49m\u001B[43m,\u001B[49m\u001B[43m \u001B[49m\u001B[43mpredict_label\u001B[49m\u001B[38;5;241;43m=\u001B[39;49m\u001B[43mpredict_label\u001B[49m\u001B[43m)\u001B[49m\n\u001B[1;32m    240\u001B[0m logging\u001B[38;5;241m.\u001B[39mkeyinfo(\u001B[38;5;124mf\u001B[39m\u001B[38;5;124m'\u001B[39m\u001B[38;5;124mIteration 0: acc10 \u001B[39m\u001B[38;5;132;01m{\u001B[39;00macc10\u001B[38;5;132;01m}\u001B[39;00m\u001B[38;5;124m, error_configs number: \u001B[39m\u001B[38;5;132;01m{\u001B[39;00m\u001B[38;5;28mlen\u001B[39m(error_configs)\u001B[38;5;132;01m}\u001B[39;00m\u001B[38;5;124m'\u001B[39m)\n\u001B[1;32m    242\u001B[0m \u001B[38;5;28;01mfor\u001B[39;00m i \u001B[38;5;129;01min\u001B[39;00m \u001B[38;5;28mrange\u001B[39m(\u001B[38;5;241m1\u001B[39m, iteration):\n\u001B[1;32m    243\u001B[0m     \u001B[38;5;66;03m# finegrained sampling and profiling for large error data\u001B[39;00m\n",
      "File \u001B[0;32m~/anaconda3/envs/nn-meter/lib/python3.10/site-packages/nn_meter/builder/kernel_predictor_builder/predictor_builder/build_predictor.py:48\u001B[0m, in \u001B[0;36mbuild_predictor_by_data\u001B[0;34m(kernel_type, kernel_data, backend, error_threshold, mark, save_path, predict_label, final_predictor)\u001B[0m\n\u001B[1;32m     45\u001B[0m     pred_save_path \u001B[38;5;241m=\u001B[39m \u001B[38;5;28;01mNone\u001B[39;00m\n\u001B[1;32m     47\u001B[0m kernel_data \u001B[38;5;241m=\u001B[39m collect_kernel_data(kernel_data, predict_label)\n\u001B[0;32m---> 48\u001B[0m data \u001B[38;5;241m=\u001B[39m \u001B[43mget_data_by_profiled_results\u001B[49m\u001B[43m(\u001B[49m\u001B[43mkernel_type\u001B[49m\u001B[43m,\u001B[49m\u001B[43m \u001B[49m\u001B[43mfeature_parser\u001B[49m\u001B[43m,\u001B[49m\u001B[43m \u001B[49m\u001B[43mkernel_data\u001B[49m\u001B[43m,\u001B[49m\n\u001B[1;32m     49\u001B[0m \u001B[43m                                    \u001B[49m\u001B[43msave_path\u001B[49m\u001B[38;5;241;43m=\u001B[39;49m\u001B[43mdata_save_path\u001B[49m\u001B[43m,\u001B[49m\n\u001B[1;32m     50\u001B[0m \u001B[43m                                    \u001B[49m\u001B[43mpredict_label\u001B[49m\u001B[38;5;241;43m=\u001B[39;49m\u001B[43mpredict_label\u001B[49m\u001B[43m)\u001B[49m\n\u001B[1;32m     52\u001B[0m acc10, error_configs \u001B[38;5;241m=\u001B[39m \u001B[38;5;28;01mNone\u001B[39;00m, \u001B[38;5;28;01mNone\u001B[39;00m\n\u001B[1;32m     53\u001B[0m X, Y \u001B[38;5;241m=\u001B[39m data\n",
      "File \u001B[0;32m~/anaconda3/envs/nn-meter/lib/python3.10/site-packages/nn_meter/builder/kernel_predictor_builder/predictor_builder/extract_feature.py:187\u001B[0m, in \u001B[0;36mget_data_by_profiled_results\u001B[0;34m(kernel_type, feature_parser, cfgs_path, labs_path, save_path, predict_label)\u001B[0m\n\u001B[1;32m    184\u001B[0m         \u001B[38;5;28;01mpass\u001B[39;00m\n\u001B[1;32m    186\u001B[0m \u001B[38;5;28;01mif\u001B[39;00m \u001B[38;5;28mlen\u001B[39m(features) \u001B[38;5;241m==\u001B[39m \u001B[38;5;241m0\u001B[39m:\n\u001B[0;32m--> 187\u001B[0m     \u001B[38;5;28;01mraise\u001B[39;00m \u001B[38;5;167;01mValueError\u001B[39;00m(\u001B[38;5;124mf\u001B[39m\u001B[38;5;124m\"\u001B[39m\u001B[38;5;124mDidn\u001B[39m\u001B[38;5;124m'\u001B[39m\u001B[38;5;124mt find any data of \u001B[39m\u001B[38;5;132;01m{\u001B[39;00mkernel_type\u001B[38;5;132;01m}\u001B[39;00m\u001B[38;5;124m for predictor training. There maybe some error about model profiling. Please check the profiling error in \u001B[39m\u001B[38;5;124m\"\u001B[39m \\\n\u001B[1;32m    188\u001B[0m         \u001B[38;5;124m\"\u001B[39m\u001B[38;5;124m`<workspace>/predictor_build/results/profile_error.log`\u001B[39m\u001B[38;5;124m\"\u001B[39m)\n\u001B[1;32m    190\u001B[0m \u001B[38;5;66;03m# save features and latency information to `save_path`\u001B[39;00m\n\u001B[1;32m    191\u001B[0m \u001B[38;5;28;01mif\u001B[39;00m save_path:\n",
      "\u001B[0;31mValueError\u001B[0m: Didn't find any data of conv-bn-relu for predictor training. There maybe some error about model profiling. Please check the profiling error in `<workspace>/predictor_build/results/profile_error.log`"
     ]
    }
   ],
   "execution_count": 4
  },
  {
   "cell_type": "code",
   "metadata": {
    "ExecuteTime": {
     "end_time": "2024-10-27T11:36:24.876005Z",
     "start_time": "2024-10-27T11:36:24.860418Z"
    }
   },
   "source": [
    "# use the data for init predictor to build adaptive sampler predictor\n",
    "# this method could be called iteratively to conduct more iterations of adaptive sampling\n",
    "predictor, data = build_adaptive_predictor_by_data(\n",
    "    kernel_type, data, backend, finegrained_sample_num=5\n",
    ")"
   ],
   "outputs": [
    {
     "ename": "NameError",
     "evalue": "name 'data' is not defined",
     "output_type": "error",
     "traceback": [
      "\u001B[0;31m---------------------------------------------------------------------------\u001B[0m",
      "\u001B[0;31mNameError\u001B[0m                                 Traceback (most recent call last)",
      "Cell \u001B[0;32mIn[6], line 4\u001B[0m\n\u001B[1;32m      1\u001B[0m \u001B[38;5;66;03m# use the data for init predictor to build adaptive sampler predictor\u001B[39;00m\n\u001B[1;32m      2\u001B[0m \u001B[38;5;66;03m# this method could be called iteratively to conduct more iterations of adaptive sampling\u001B[39;00m\n\u001B[1;32m      3\u001B[0m predictor, data \u001B[38;5;241m=\u001B[39m build_adaptive_predictor_by_data(\n\u001B[0;32m----> 4\u001B[0m     kernel_type, \u001B[43mdata\u001B[49m, backend, finegrained_sample_num\u001B[38;5;241m=\u001B[39m\u001B[38;5;241m5\u001B[39m\n\u001B[1;32m      5\u001B[0m )\n",
      "\u001B[0;31mNameError\u001B[0m: name 'data' is not defined"
     ]
    }
   ],
   "execution_count": 6
  },
  {
   "cell_type": "markdown",
   "metadata": {},
   "source": [
    "Another method `build_predictor_for_kernel` is provided to integrate initial sampling and adaptive sampling. In this method, both `init_sample_num` and `finegrained_sample_num` should be assigned, and the `iteration` indicates the iteration of adaptive sampling. Initial sampling is regarded as iteration 1, thus `iteration == 2` means one iteration for adaptive sampling."
   ]
  },
  {
   "cell_type": "code",
   "metadata": {
    "ExecuteTime": {
     "end_time": "2024-10-27T10:43:11.558689Z",
     "start_time": "2024-10-27T10:43:11.436863Z"
    }
   },
   "source": [
    "from nn_meter.builder import build_predictor_for_kernel\n",
    "predictor, data = build_predictor_for_kernel(\n",
    "    kernel_type, backend, init_sample_num=10, finegrained_sample_num=5, iteration=2\n",
    ")"
   ],
   "outputs": [
    {
     "ename": "RuntimeError",
     "evalue": "CPU dispatcher tracer already initlized",
     "output_type": "error",
     "traceback": [
      "\u001B[0;31m---------------------------------------------------------------------------\u001B[0m",
      "\u001B[0;31mRuntimeError\u001B[0m                              Traceback (most recent call last)",
      "\u001B[0;31mRuntimeError\u001B[0m: CPU dispatcher tracer already initlized"
     ]
    },
    {
     "ename": "ImportError",
     "evalue": "numpy._core.multiarray failed to import",
     "output_type": "error",
     "traceback": [
      "\u001B[0;31m---------------------------------------------------------------------------\u001B[0m",
      "\u001B[0;31mImportError\u001B[0m                               Traceback (most recent call last)",
      "Cell \u001B[0;32mIn[9], line 1\u001B[0m\n\u001B[0;32m----> 1\u001B[0m \u001B[38;5;28;01mfrom\u001B[39;00m \u001B[38;5;21;01mnn_meter\u001B[39;00m\u001B[38;5;21;01m.\u001B[39;00m\u001B[38;5;21;01mbuilder\u001B[39;00m \u001B[38;5;28;01mimport\u001B[39;00m build_predictor_for_kernel\n\u001B[1;32m      2\u001B[0m predictor, data \u001B[38;5;241m=\u001B[39m build_predictor_for_kernel(\n\u001B[1;32m      3\u001B[0m     kernel_type, backend, init_sample_num\u001B[38;5;241m=\u001B[39m\u001B[38;5;241m10\u001B[39m, finegrained_sample_num\u001B[38;5;241m=\u001B[39m\u001B[38;5;241m5\u001B[39m, iteration\u001B[38;5;241m=\u001B[39m\u001B[38;5;241m2\u001B[39m\n\u001B[1;32m      4\u001B[0m )\n",
      "File \u001B[0;32m~/anaconda3/envs/nn-meter/lib/python3.10/site-packages/nn_meter/__init__.py:12\u001B[0m\n\u001B[1;32m      8\u001B[0m     __version__ \u001B[38;5;241m=\u001B[39m \u001B[38;5;124m'\u001B[39m\u001B[38;5;124mUNKNOWN\u001B[39m\u001B[38;5;124m'\u001B[39m\n\u001B[1;32m     10\u001B[0m \u001B[38;5;28;01mfrom\u001B[39;00m \u001B[38;5;21;01mfunctools\u001B[39;00m \u001B[38;5;28;01mimport\u001B[39;00m partial, partialmethod\n\u001B[0;32m---> 12\u001B[0m \u001B[38;5;28;01mfrom\u001B[39;00m \u001B[38;5;21;01m.\u001B[39;00m\u001B[38;5;21;01mpredictor\u001B[39;00m \u001B[38;5;28;01mimport\u001B[39;00m (\n\u001B[1;32m     13\u001B[0m     nnMeterPredictor,\n\u001B[1;32m     14\u001B[0m     load_latency_predictor,\n\u001B[1;32m     15\u001B[0m     list_latency_predictors\n\u001B[1;32m     16\u001B[0m )\n\u001B[1;32m     17\u001B[0m \u001B[38;5;28;01mfrom\u001B[39;00m \u001B[38;5;21;01m.\u001B[39;00m\u001B[38;5;21;01mir_converter\u001B[39;00m \u001B[38;5;28;01mimport\u001B[39;00m (\n\u001B[1;32m     18\u001B[0m     model_file_to_graph,\n\u001B[1;32m     19\u001B[0m     model_to_graph\n\u001B[1;32m     20\u001B[0m )\n\u001B[1;32m     21\u001B[0m \u001B[38;5;28;01mfrom\u001B[39;00m \u001B[38;5;21;01m.\u001B[39;00m\u001B[38;5;21;01mutils\u001B[39;00m \u001B[38;5;28;01mimport\u001B[39;00m (\n\u001B[1;32m     22\u001B[0m     create_user_configs,\n\u001B[1;32m     23\u001B[0m     change_user_data_folder,\n\u001B[1;32m     24\u001B[0m     download_from_url,\n\u001B[1;32m     25\u001B[0m     latency_metrics\n\u001B[1;32m     26\u001B[0m )\n",
      "File \u001B[0;32m~/anaconda3/envs/nn-meter/lib/python3.10/site-packages/nn_meter/predictor/__init__.py:3\u001B[0m\n\u001B[1;32m      1\u001B[0m \u001B[38;5;66;03m# Copyright (c) Microsoft Corporation.\u001B[39;00m\n\u001B[1;32m      2\u001B[0m \u001B[38;5;66;03m# Licensed under the MIT license.\u001B[39;00m\n\u001B[0;32m----> 3\u001B[0m \u001B[38;5;28;01mfrom\u001B[39;00m \u001B[38;5;21;01m.\u001B[39;00m\u001B[38;5;21;01mnn_meter_predictor\u001B[39;00m \u001B[38;5;28;01mimport\u001B[39;00m nnMeterPredictor, list_latency_predictors, load_latency_predictor\n",
      "File \u001B[0;32m~/anaconda3/envs/nn-meter/lib/python3.10/site-packages/nn_meter/predictor/nn_meter_predictor.py:6\u001B[0m\n\u001B[1;32m      4\u001B[0m \u001B[38;5;28;01mimport\u001B[39;00m \u001B[38;5;21;01mlogging\u001B[39;00m\n\u001B[1;32m      5\u001B[0m \u001B[38;5;28;01mfrom\u001B[39;00m \u001B[38;5;21;01mpackaging\u001B[39;00m \u001B[38;5;28;01mimport\u001B[39;00m version\n\u001B[0;32m----> 6\u001B[0m \u001B[38;5;28;01mfrom\u001B[39;00m \u001B[38;5;21;01m.\u001B[39;00m\u001B[38;5;21;01mutils\u001B[39;00m \u001B[38;5;28;01mimport\u001B[39;00m load_config_file, loading_to_local, loading_customized_predictor\n\u001B[1;32m      7\u001B[0m \u001B[38;5;28;01mfrom\u001B[39;00m \u001B[38;5;21;01m.\u001B[39;00m\u001B[38;5;21;01mprediction\u001B[39;00m\u001B[38;5;21;01m.\u001B[39;00m\u001B[38;5;21;01mpredict_by_kernel\u001B[39;00m \u001B[38;5;28;01mimport\u001B[39;00m nn_predict\n\u001B[1;32m      8\u001B[0m \u001B[38;5;28;01mfrom\u001B[39;00m \u001B[38;5;21;01mnn_meter\u001B[39;00m\u001B[38;5;21;01m.\u001B[39;00m\u001B[38;5;21;01mkernel_detector\u001B[39;00m \u001B[38;5;28;01mimport\u001B[39;00m KernelDetector\n",
      "File \u001B[0;32m~/anaconda3/envs/nn-meter/lib/python3.10/site-packages/nn_meter/predictor/utils.py:8\u001B[0m\n\u001B[1;32m      6\u001B[0m \u001B[38;5;28;01mimport\u001B[39;00m \u001B[38;5;21;01mlogging\u001B[39;00m\n\u001B[1;32m      7\u001B[0m \u001B[38;5;28;01mfrom\u001B[39;00m \u001B[38;5;21;01mglob\u001B[39;00m \u001B[38;5;28;01mimport\u001B[39;00m glob\n\u001B[0;32m----> 8\u001B[0m \u001B[38;5;28;01mfrom\u001B[39;00m \u001B[38;5;21;01mnn_meter\u001B[39;00m\u001B[38;5;21;01m.\u001B[39;00m\u001B[38;5;21;01mutils\u001B[39;00m \u001B[38;5;28;01mimport\u001B[39;00m download_from_url, create_user_configs\n\u001B[1;32m      9\u001B[0m logging \u001B[38;5;241m=\u001B[39m logging\u001B[38;5;241m.\u001B[39mgetLogger(\u001B[38;5;124m\"\u001B[39m\u001B[38;5;124mnn-Meter\u001B[39m\u001B[38;5;124m\"\u001B[39m)\n\u001B[1;32m     12\u001B[0m __user_config_folder__ \u001B[38;5;241m=\u001B[39m os\u001B[38;5;241m.\u001B[39mpath\u001B[38;5;241m.\u001B[39mexpanduser(\u001B[38;5;124m'\u001B[39m\u001B[38;5;124m~/.nn_meter/config\u001B[39m\u001B[38;5;124m'\u001B[39m)\n",
      "File \u001B[0;32m~/anaconda3/envs/nn-meter/lib/python3.10/site-packages/nn_meter/utils/__init__.py:9\u001B[0m\n\u001B[1;32m      3\u001B[0m \u001B[38;5;28;01mfrom\u001B[39;00m \u001B[38;5;21;01m.\u001B[39;00m\u001B[38;5;21;01mconfig_manager\u001B[39;00m \u001B[38;5;28;01mimport\u001B[39;00m (\n\u001B[1;32m      4\u001B[0m     create_user_configs,\n\u001B[1;32m      5\u001B[0m     get_user_data_folder,\n\u001B[1;32m      6\u001B[0m     change_user_data_folder\n\u001B[1;32m      7\u001B[0m )\n\u001B[1;32m      8\u001B[0m \u001B[38;5;28;01mfrom\u001B[39;00m \u001B[38;5;21;01m.\u001B[39;00m\u001B[38;5;21;01mutils\u001B[39;00m \u001B[38;5;28;01mimport\u001B[39;00m download_from_url\n\u001B[0;32m----> 9\u001B[0m \u001B[38;5;28;01mfrom\u001B[39;00m \u001B[38;5;21;01m.\u001B[39;00m\u001B[38;5;21;01mevaluation\u001B[39;00m \u001B[38;5;28;01mimport\u001B[39;00m (\n\u001B[1;32m     10\u001B[0m     latency_metrics,\n\u001B[1;32m     11\u001B[0m     get_conv_flop_params,\n\u001B[1;32m     12\u001B[0m     get_dwconv_flop_params,\n\u001B[1;32m     13\u001B[0m     get_fc_flop_params\n\u001B[1;32m     14\u001B[0m )\n",
      "File \u001B[0;32m~/anaconda3/envs/nn-meter/lib/python3.10/site-packages/nn_meter/utils/evaluation.py:4\u001B[0m\n\u001B[1;32m      1\u001B[0m \u001B[38;5;66;03m# Copyright (c) Microsoft Corporation.\u001B[39;00m\n\u001B[1;32m      2\u001B[0m \u001B[38;5;66;03m# Licensed under the MIT license.\u001B[39;00m\n\u001B[1;32m      3\u001B[0m \u001B[38;5;28;01mimport\u001B[39;00m \u001B[38;5;21;01mnumpy\u001B[39;00m \u001B[38;5;28;01mas\u001B[39;00m \u001B[38;5;21;01mnp\u001B[39;00m\n\u001B[0;32m----> 4\u001B[0m \u001B[38;5;28;01mfrom\u001B[39;00m \u001B[38;5;21;01msklearn\u001B[39;00m\u001B[38;5;21;01m.\u001B[39;00m\u001B[38;5;21;01mmetrics\u001B[39;00m \u001B[38;5;28;01mimport\u001B[39;00m mean_squared_error\n\u001B[1;32m      7\u001B[0m \u001B[38;5;28;01mdef\u001B[39;00m \u001B[38;5;21mget_accuracy\u001B[39m(y_pred, y_true, threshold \u001B[38;5;241m=\u001B[39m \u001B[38;5;241m0.01\u001B[39m):\n\u001B[1;32m      8\u001B[0m     a \u001B[38;5;241m=\u001B[39m (y_true \u001B[38;5;241m-\u001B[39m y_pred) \u001B[38;5;241m/\u001B[39m y_true\n",
      "File \u001B[0;32m~/anaconda3/envs/nn-meter/lib/python3.10/site-packages/sklearn/__init__.py:82\u001B[0m\n\u001B[1;32m     80\u001B[0m \u001B[38;5;28;01mfrom\u001B[39;00m \u001B[38;5;21;01m.\u001B[39;00m \u001B[38;5;28;01mimport\u001B[39;00m _distributor_init  \u001B[38;5;66;03m# noqa: F401\u001B[39;00m\n\u001B[1;32m     81\u001B[0m \u001B[38;5;28;01mfrom\u001B[39;00m \u001B[38;5;21;01m.\u001B[39;00m \u001B[38;5;28;01mimport\u001B[39;00m __check_build  \u001B[38;5;66;03m# noqa: F401\u001B[39;00m\n\u001B[0;32m---> 82\u001B[0m \u001B[38;5;28;01mfrom\u001B[39;00m \u001B[38;5;21;01m.\u001B[39;00m\u001B[38;5;21;01mbase\u001B[39;00m \u001B[38;5;28;01mimport\u001B[39;00m clone\n\u001B[1;32m     83\u001B[0m \u001B[38;5;28;01mfrom\u001B[39;00m \u001B[38;5;21;01m.\u001B[39;00m\u001B[38;5;21;01mutils\u001B[39;00m\u001B[38;5;21;01m.\u001B[39;00m\u001B[38;5;21;01m_show_versions\u001B[39;00m \u001B[38;5;28;01mimport\u001B[39;00m show_versions\n\u001B[1;32m     85\u001B[0m __all__ \u001B[38;5;241m=\u001B[39m [\n\u001B[1;32m     86\u001B[0m     \u001B[38;5;124m\"\u001B[39m\u001B[38;5;124mcalibration\u001B[39m\u001B[38;5;124m\"\u001B[39m,\n\u001B[1;32m     87\u001B[0m     \u001B[38;5;124m\"\u001B[39m\u001B[38;5;124mcluster\u001B[39m\u001B[38;5;124m\"\u001B[39m,\n\u001B[0;32m   (...)\u001B[0m\n\u001B[1;32m    128\u001B[0m     \u001B[38;5;124m\"\u001B[39m\u001B[38;5;124mshow_versions\u001B[39m\u001B[38;5;124m\"\u001B[39m,\n\u001B[1;32m    129\u001B[0m ]\n",
      "File \u001B[0;32m~/anaconda3/envs/nn-meter/lib/python3.10/site-packages/sklearn/base.py:17\u001B[0m\n\u001B[1;32m     15\u001B[0m \u001B[38;5;28;01mfrom\u001B[39;00m \u001B[38;5;21;01m.\u001B[39;00m \u001B[38;5;28;01mimport\u001B[39;00m __version__\n\u001B[1;32m     16\u001B[0m \u001B[38;5;28;01mfrom\u001B[39;00m \u001B[38;5;21;01m.\u001B[39;00m\u001B[38;5;21;01m_config\u001B[39;00m \u001B[38;5;28;01mimport\u001B[39;00m get_config\n\u001B[0;32m---> 17\u001B[0m \u001B[38;5;28;01mfrom\u001B[39;00m \u001B[38;5;21;01m.\u001B[39;00m\u001B[38;5;21;01mutils\u001B[39;00m \u001B[38;5;28;01mimport\u001B[39;00m _IS_32BIT\n\u001B[1;32m     18\u001B[0m \u001B[38;5;28;01mfrom\u001B[39;00m \u001B[38;5;21;01m.\u001B[39;00m\u001B[38;5;21;01mutils\u001B[39;00m\u001B[38;5;21;01m.\u001B[39;00m\u001B[38;5;21;01m_set_output\u001B[39;00m \u001B[38;5;28;01mimport\u001B[39;00m _SetOutputMixin\n\u001B[1;32m     19\u001B[0m \u001B[38;5;28;01mfrom\u001B[39;00m \u001B[38;5;21;01m.\u001B[39;00m\u001B[38;5;21;01mutils\u001B[39;00m\u001B[38;5;21;01m.\u001B[39;00m\u001B[38;5;21;01m_tags\u001B[39;00m \u001B[38;5;28;01mimport\u001B[39;00m (\n\u001B[1;32m     20\u001B[0m     _DEFAULT_TAGS,\n\u001B[1;32m     21\u001B[0m )\n",
      "File \u001B[0;32m~/anaconda3/envs/nn-meter/lib/python3.10/site-packages/sklearn/utils/__init__.py:17\u001B[0m\n\u001B[1;32m     15\u001B[0m \u001B[38;5;28;01mimport\u001B[39;00m \u001B[38;5;21;01mwarnings\u001B[39;00m\n\u001B[1;32m     16\u001B[0m \u001B[38;5;28;01mimport\u001B[39;00m \u001B[38;5;21;01mnumpy\u001B[39;00m \u001B[38;5;28;01mas\u001B[39;00m \u001B[38;5;21;01mnp\u001B[39;00m\n\u001B[0;32m---> 17\u001B[0m \u001B[38;5;28;01mfrom\u001B[39;00m \u001B[38;5;21;01mscipy\u001B[39;00m\u001B[38;5;21;01m.\u001B[39;00m\u001B[38;5;21;01msparse\u001B[39;00m \u001B[38;5;28;01mimport\u001B[39;00m issparse\n\u001B[1;32m     19\u001B[0m \u001B[38;5;28;01mfrom\u001B[39;00m \u001B[38;5;21;01m.\u001B[39;00m\u001B[38;5;21;01mmurmurhash\u001B[39;00m \u001B[38;5;28;01mimport\u001B[39;00m murmurhash3_32\n\u001B[1;32m     20\u001B[0m \u001B[38;5;28;01mfrom\u001B[39;00m \u001B[38;5;21;01m.\u001B[39;00m\u001B[38;5;21;01mclass_weight\u001B[39;00m \u001B[38;5;28;01mimport\u001B[39;00m compute_class_weight, compute_sample_weight\n",
      "File \u001B[0;32m~/anaconda3/envs/nn-meter/lib/python3.10/site-packages/scipy/sparse/__init__.py:294\u001B[0m\n\u001B[1;32m    291\u001B[0m \u001B[38;5;28;01mimport\u001B[39;00m \u001B[38;5;21;01mwarnings\u001B[39;00m \u001B[38;5;28;01mas\u001B[39;00m \u001B[38;5;21;01m_warnings\u001B[39;00m\n\u001B[1;32m    293\u001B[0m \u001B[38;5;28;01mfrom\u001B[39;00m \u001B[38;5;21;01m.\u001B[39;00m\u001B[38;5;21;01m_base\u001B[39;00m \u001B[38;5;28;01mimport\u001B[39;00m \u001B[38;5;241m*\u001B[39m\n\u001B[0;32m--> 294\u001B[0m \u001B[38;5;28;01mfrom\u001B[39;00m \u001B[38;5;21;01m.\u001B[39;00m\u001B[38;5;21;01m_csr\u001B[39;00m \u001B[38;5;28;01mimport\u001B[39;00m \u001B[38;5;241m*\u001B[39m\n\u001B[1;32m    295\u001B[0m \u001B[38;5;28;01mfrom\u001B[39;00m \u001B[38;5;21;01m.\u001B[39;00m\u001B[38;5;21;01m_csc\u001B[39;00m \u001B[38;5;28;01mimport\u001B[39;00m \u001B[38;5;241m*\u001B[39m\n\u001B[1;32m    296\u001B[0m \u001B[38;5;28;01mfrom\u001B[39;00m \u001B[38;5;21;01m.\u001B[39;00m\u001B[38;5;21;01m_lil\u001B[39;00m \u001B[38;5;28;01mimport\u001B[39;00m \u001B[38;5;241m*\u001B[39m\n",
      "File \u001B[0;32m~/anaconda3/envs/nn-meter/lib/python3.10/site-packages/scipy/sparse/_csr.py:11\u001B[0m\n\u001B[1;32m      9\u001B[0m \u001B[38;5;28;01mfrom\u001B[39;00m \u001B[38;5;21;01m.\u001B[39;00m\u001B[38;5;21;01m_matrix\u001B[39;00m \u001B[38;5;28;01mimport\u001B[39;00m spmatrix\n\u001B[1;32m     10\u001B[0m \u001B[38;5;28;01mfrom\u001B[39;00m \u001B[38;5;21;01m.\u001B[39;00m\u001B[38;5;21;01m_base\u001B[39;00m \u001B[38;5;28;01mimport\u001B[39;00m _spbase, sparray\n\u001B[0;32m---> 11\u001B[0m \u001B[38;5;28;01mfrom\u001B[39;00m \u001B[38;5;21;01m.\u001B[39;00m\u001B[38;5;21;01m_sparsetools\u001B[39;00m \u001B[38;5;28;01mimport\u001B[39;00m (csr_tocsc, csr_tobsr, csr_count_blocks,\n\u001B[1;32m     12\u001B[0m                            get_csr_submatrix)\n\u001B[1;32m     13\u001B[0m \u001B[38;5;28;01mfrom\u001B[39;00m \u001B[38;5;21;01m.\u001B[39;00m\u001B[38;5;21;01m_sputils\u001B[39;00m \u001B[38;5;28;01mimport\u001B[39;00m upcast\n\u001B[1;32m     15\u001B[0m \u001B[38;5;28;01mfrom\u001B[39;00m \u001B[38;5;21;01m.\u001B[39;00m\u001B[38;5;21;01m_compressed\u001B[39;00m \u001B[38;5;28;01mimport\u001B[39;00m _cs_matrix\n",
      "\u001B[0;31mImportError\u001B[0m: numpy._core.multiarray failed to import"
     ]
    }
   ],
   "execution_count": 9
  },
  {
   "cell_type": "markdown",
   "metadata": {},
   "source": [
    "nn-Meter also provided a end-to-end method for users to build a series of general latency predictors, named `nn_meter.builder.build_latency_predictor`. This method will build predictors for all kernels in `<workspace-path>/configs/predictorbuild_config.yaml` according to their corresponding parameters. The parameters includes `INIT_SAMPLE_NUM`, `FINEGRAINED_SAMPLE_NUM`, `ITERATION`, and `ERROR_THRESHOLD`. Here is an example:"
   ]
  },
  {
   "cell_type": "code",
   "metadata": {
    "ExecuteTime": {
     "end_time": "2024-10-27T10:43:18.158777Z",
     "start_time": "2024-10-27T10:43:18.044636Z"
    }
   },
   "source": [
    "# build latency predictor for kernel\n",
    "from nn_meter.builder import build_latency_predictor\n",
    "build_latency_predictor(backend=\"debug_backend\")\n"
   ],
   "outputs": [
    {
     "ename": "RuntimeError",
     "evalue": "CPU dispatcher tracer already initlized",
     "output_type": "error",
     "traceback": [
      "\u001B[0;31m---------------------------------------------------------------------------\u001B[0m",
      "\u001B[0;31mRuntimeError\u001B[0m                              Traceback (most recent call last)",
      "\u001B[0;31mRuntimeError\u001B[0m: CPU dispatcher tracer already initlized"
     ]
    },
    {
     "ename": "ImportError",
     "evalue": "numpy._core.multiarray failed to import",
     "output_type": "error",
     "traceback": [
      "\u001B[0;31m---------------------------------------------------------------------------\u001B[0m",
      "\u001B[0;31mImportError\u001B[0m                               Traceback (most recent call last)",
      "Cell \u001B[0;32mIn[10], line 2\u001B[0m\n\u001B[1;32m      1\u001B[0m \u001B[38;5;66;03m# build latency predictor for kernel\u001B[39;00m\n\u001B[0;32m----> 2\u001B[0m \u001B[38;5;28;01mfrom\u001B[39;00m \u001B[38;5;21;01mnn_meter\u001B[39;00m\u001B[38;5;21;01m.\u001B[39;00m\u001B[38;5;21;01mbuilder\u001B[39;00m \u001B[38;5;28;01mimport\u001B[39;00m build_latency_predictor\n\u001B[1;32m      3\u001B[0m build_latency_predictor(backend\u001B[38;5;241m=\u001B[39m\u001B[38;5;124m\"\u001B[39m\u001B[38;5;124mdebug_backend\u001B[39m\u001B[38;5;124m\"\u001B[39m)\n",
      "File \u001B[0;32m~/anaconda3/envs/nn-meter/lib/python3.10/site-packages/nn_meter/__init__.py:12\u001B[0m\n\u001B[1;32m      8\u001B[0m     __version__ \u001B[38;5;241m=\u001B[39m \u001B[38;5;124m'\u001B[39m\u001B[38;5;124mUNKNOWN\u001B[39m\u001B[38;5;124m'\u001B[39m\n\u001B[1;32m     10\u001B[0m \u001B[38;5;28;01mfrom\u001B[39;00m \u001B[38;5;21;01mfunctools\u001B[39;00m \u001B[38;5;28;01mimport\u001B[39;00m partial, partialmethod\n\u001B[0;32m---> 12\u001B[0m \u001B[38;5;28;01mfrom\u001B[39;00m \u001B[38;5;21;01m.\u001B[39;00m\u001B[38;5;21;01mpredictor\u001B[39;00m \u001B[38;5;28;01mimport\u001B[39;00m (\n\u001B[1;32m     13\u001B[0m     nnMeterPredictor,\n\u001B[1;32m     14\u001B[0m     load_latency_predictor,\n\u001B[1;32m     15\u001B[0m     list_latency_predictors\n\u001B[1;32m     16\u001B[0m )\n\u001B[1;32m     17\u001B[0m \u001B[38;5;28;01mfrom\u001B[39;00m \u001B[38;5;21;01m.\u001B[39;00m\u001B[38;5;21;01mir_converter\u001B[39;00m \u001B[38;5;28;01mimport\u001B[39;00m (\n\u001B[1;32m     18\u001B[0m     model_file_to_graph,\n\u001B[1;32m     19\u001B[0m     model_to_graph\n\u001B[1;32m     20\u001B[0m )\n\u001B[1;32m     21\u001B[0m \u001B[38;5;28;01mfrom\u001B[39;00m \u001B[38;5;21;01m.\u001B[39;00m\u001B[38;5;21;01mutils\u001B[39;00m \u001B[38;5;28;01mimport\u001B[39;00m (\n\u001B[1;32m     22\u001B[0m     create_user_configs,\n\u001B[1;32m     23\u001B[0m     change_user_data_folder,\n\u001B[1;32m     24\u001B[0m     download_from_url,\n\u001B[1;32m     25\u001B[0m     latency_metrics\n\u001B[1;32m     26\u001B[0m )\n",
      "File \u001B[0;32m~/anaconda3/envs/nn-meter/lib/python3.10/site-packages/nn_meter/predictor/__init__.py:3\u001B[0m\n\u001B[1;32m      1\u001B[0m \u001B[38;5;66;03m# Copyright (c) Microsoft Corporation.\u001B[39;00m\n\u001B[1;32m      2\u001B[0m \u001B[38;5;66;03m# Licensed under the MIT license.\u001B[39;00m\n\u001B[0;32m----> 3\u001B[0m \u001B[38;5;28;01mfrom\u001B[39;00m \u001B[38;5;21;01m.\u001B[39;00m\u001B[38;5;21;01mnn_meter_predictor\u001B[39;00m \u001B[38;5;28;01mimport\u001B[39;00m nnMeterPredictor, list_latency_predictors, load_latency_predictor\n",
      "File \u001B[0;32m~/anaconda3/envs/nn-meter/lib/python3.10/site-packages/nn_meter/predictor/nn_meter_predictor.py:6\u001B[0m\n\u001B[1;32m      4\u001B[0m \u001B[38;5;28;01mimport\u001B[39;00m \u001B[38;5;21;01mlogging\u001B[39;00m\n\u001B[1;32m      5\u001B[0m \u001B[38;5;28;01mfrom\u001B[39;00m \u001B[38;5;21;01mpackaging\u001B[39;00m \u001B[38;5;28;01mimport\u001B[39;00m version\n\u001B[0;32m----> 6\u001B[0m \u001B[38;5;28;01mfrom\u001B[39;00m \u001B[38;5;21;01m.\u001B[39;00m\u001B[38;5;21;01mutils\u001B[39;00m \u001B[38;5;28;01mimport\u001B[39;00m load_config_file, loading_to_local, loading_customized_predictor\n\u001B[1;32m      7\u001B[0m \u001B[38;5;28;01mfrom\u001B[39;00m \u001B[38;5;21;01m.\u001B[39;00m\u001B[38;5;21;01mprediction\u001B[39;00m\u001B[38;5;21;01m.\u001B[39;00m\u001B[38;5;21;01mpredict_by_kernel\u001B[39;00m \u001B[38;5;28;01mimport\u001B[39;00m nn_predict\n\u001B[1;32m      8\u001B[0m \u001B[38;5;28;01mfrom\u001B[39;00m \u001B[38;5;21;01mnn_meter\u001B[39;00m\u001B[38;5;21;01m.\u001B[39;00m\u001B[38;5;21;01mkernel_detector\u001B[39;00m \u001B[38;5;28;01mimport\u001B[39;00m KernelDetector\n",
      "File \u001B[0;32m~/anaconda3/envs/nn-meter/lib/python3.10/site-packages/nn_meter/predictor/utils.py:8\u001B[0m\n\u001B[1;32m      6\u001B[0m \u001B[38;5;28;01mimport\u001B[39;00m \u001B[38;5;21;01mlogging\u001B[39;00m\n\u001B[1;32m      7\u001B[0m \u001B[38;5;28;01mfrom\u001B[39;00m \u001B[38;5;21;01mglob\u001B[39;00m \u001B[38;5;28;01mimport\u001B[39;00m glob\n\u001B[0;32m----> 8\u001B[0m \u001B[38;5;28;01mfrom\u001B[39;00m \u001B[38;5;21;01mnn_meter\u001B[39;00m\u001B[38;5;21;01m.\u001B[39;00m\u001B[38;5;21;01mutils\u001B[39;00m \u001B[38;5;28;01mimport\u001B[39;00m download_from_url, create_user_configs\n\u001B[1;32m      9\u001B[0m logging \u001B[38;5;241m=\u001B[39m logging\u001B[38;5;241m.\u001B[39mgetLogger(\u001B[38;5;124m\"\u001B[39m\u001B[38;5;124mnn-Meter\u001B[39m\u001B[38;5;124m\"\u001B[39m)\n\u001B[1;32m     12\u001B[0m __user_config_folder__ \u001B[38;5;241m=\u001B[39m os\u001B[38;5;241m.\u001B[39mpath\u001B[38;5;241m.\u001B[39mexpanduser(\u001B[38;5;124m'\u001B[39m\u001B[38;5;124m~/.nn_meter/config\u001B[39m\u001B[38;5;124m'\u001B[39m)\n",
      "File \u001B[0;32m~/anaconda3/envs/nn-meter/lib/python3.10/site-packages/nn_meter/utils/__init__.py:9\u001B[0m\n\u001B[1;32m      3\u001B[0m \u001B[38;5;28;01mfrom\u001B[39;00m \u001B[38;5;21;01m.\u001B[39;00m\u001B[38;5;21;01mconfig_manager\u001B[39;00m \u001B[38;5;28;01mimport\u001B[39;00m (\n\u001B[1;32m      4\u001B[0m     create_user_configs,\n\u001B[1;32m      5\u001B[0m     get_user_data_folder,\n\u001B[1;32m      6\u001B[0m     change_user_data_folder\n\u001B[1;32m      7\u001B[0m )\n\u001B[1;32m      8\u001B[0m \u001B[38;5;28;01mfrom\u001B[39;00m \u001B[38;5;21;01m.\u001B[39;00m\u001B[38;5;21;01mutils\u001B[39;00m \u001B[38;5;28;01mimport\u001B[39;00m download_from_url\n\u001B[0;32m----> 9\u001B[0m \u001B[38;5;28;01mfrom\u001B[39;00m \u001B[38;5;21;01m.\u001B[39;00m\u001B[38;5;21;01mevaluation\u001B[39;00m \u001B[38;5;28;01mimport\u001B[39;00m (\n\u001B[1;32m     10\u001B[0m     latency_metrics,\n\u001B[1;32m     11\u001B[0m     get_conv_flop_params,\n\u001B[1;32m     12\u001B[0m     get_dwconv_flop_params,\n\u001B[1;32m     13\u001B[0m     get_fc_flop_params\n\u001B[1;32m     14\u001B[0m )\n",
      "File \u001B[0;32m~/anaconda3/envs/nn-meter/lib/python3.10/site-packages/nn_meter/utils/evaluation.py:4\u001B[0m\n\u001B[1;32m      1\u001B[0m \u001B[38;5;66;03m# Copyright (c) Microsoft Corporation.\u001B[39;00m\n\u001B[1;32m      2\u001B[0m \u001B[38;5;66;03m# Licensed under the MIT license.\u001B[39;00m\n\u001B[1;32m      3\u001B[0m \u001B[38;5;28;01mimport\u001B[39;00m \u001B[38;5;21;01mnumpy\u001B[39;00m \u001B[38;5;28;01mas\u001B[39;00m \u001B[38;5;21;01mnp\u001B[39;00m\n\u001B[0;32m----> 4\u001B[0m \u001B[38;5;28;01mfrom\u001B[39;00m \u001B[38;5;21;01msklearn\u001B[39;00m\u001B[38;5;21;01m.\u001B[39;00m\u001B[38;5;21;01mmetrics\u001B[39;00m \u001B[38;5;28;01mimport\u001B[39;00m mean_squared_error\n\u001B[1;32m      7\u001B[0m \u001B[38;5;28;01mdef\u001B[39;00m \u001B[38;5;21mget_accuracy\u001B[39m(y_pred, y_true, threshold \u001B[38;5;241m=\u001B[39m \u001B[38;5;241m0.01\u001B[39m):\n\u001B[1;32m      8\u001B[0m     a \u001B[38;5;241m=\u001B[39m (y_true \u001B[38;5;241m-\u001B[39m y_pred) \u001B[38;5;241m/\u001B[39m y_true\n",
      "File \u001B[0;32m~/anaconda3/envs/nn-meter/lib/python3.10/site-packages/sklearn/__init__.py:82\u001B[0m\n\u001B[1;32m     80\u001B[0m \u001B[38;5;28;01mfrom\u001B[39;00m \u001B[38;5;21;01m.\u001B[39;00m \u001B[38;5;28;01mimport\u001B[39;00m _distributor_init  \u001B[38;5;66;03m# noqa: F401\u001B[39;00m\n\u001B[1;32m     81\u001B[0m \u001B[38;5;28;01mfrom\u001B[39;00m \u001B[38;5;21;01m.\u001B[39;00m \u001B[38;5;28;01mimport\u001B[39;00m __check_build  \u001B[38;5;66;03m# noqa: F401\u001B[39;00m\n\u001B[0;32m---> 82\u001B[0m \u001B[38;5;28;01mfrom\u001B[39;00m \u001B[38;5;21;01m.\u001B[39;00m\u001B[38;5;21;01mbase\u001B[39;00m \u001B[38;5;28;01mimport\u001B[39;00m clone\n\u001B[1;32m     83\u001B[0m \u001B[38;5;28;01mfrom\u001B[39;00m \u001B[38;5;21;01m.\u001B[39;00m\u001B[38;5;21;01mutils\u001B[39;00m\u001B[38;5;21;01m.\u001B[39;00m\u001B[38;5;21;01m_show_versions\u001B[39;00m \u001B[38;5;28;01mimport\u001B[39;00m show_versions\n\u001B[1;32m     85\u001B[0m __all__ \u001B[38;5;241m=\u001B[39m [\n\u001B[1;32m     86\u001B[0m     \u001B[38;5;124m\"\u001B[39m\u001B[38;5;124mcalibration\u001B[39m\u001B[38;5;124m\"\u001B[39m,\n\u001B[1;32m     87\u001B[0m     \u001B[38;5;124m\"\u001B[39m\u001B[38;5;124mcluster\u001B[39m\u001B[38;5;124m\"\u001B[39m,\n\u001B[0;32m   (...)\u001B[0m\n\u001B[1;32m    128\u001B[0m     \u001B[38;5;124m\"\u001B[39m\u001B[38;5;124mshow_versions\u001B[39m\u001B[38;5;124m\"\u001B[39m,\n\u001B[1;32m    129\u001B[0m ]\n",
      "File \u001B[0;32m~/anaconda3/envs/nn-meter/lib/python3.10/site-packages/sklearn/base.py:17\u001B[0m\n\u001B[1;32m     15\u001B[0m \u001B[38;5;28;01mfrom\u001B[39;00m \u001B[38;5;21;01m.\u001B[39;00m \u001B[38;5;28;01mimport\u001B[39;00m __version__\n\u001B[1;32m     16\u001B[0m \u001B[38;5;28;01mfrom\u001B[39;00m \u001B[38;5;21;01m.\u001B[39;00m\u001B[38;5;21;01m_config\u001B[39;00m \u001B[38;5;28;01mimport\u001B[39;00m get_config\n\u001B[0;32m---> 17\u001B[0m \u001B[38;5;28;01mfrom\u001B[39;00m \u001B[38;5;21;01m.\u001B[39;00m\u001B[38;5;21;01mutils\u001B[39;00m \u001B[38;5;28;01mimport\u001B[39;00m _IS_32BIT\n\u001B[1;32m     18\u001B[0m \u001B[38;5;28;01mfrom\u001B[39;00m \u001B[38;5;21;01m.\u001B[39;00m\u001B[38;5;21;01mutils\u001B[39;00m\u001B[38;5;21;01m.\u001B[39;00m\u001B[38;5;21;01m_set_output\u001B[39;00m \u001B[38;5;28;01mimport\u001B[39;00m _SetOutputMixin\n\u001B[1;32m     19\u001B[0m \u001B[38;5;28;01mfrom\u001B[39;00m \u001B[38;5;21;01m.\u001B[39;00m\u001B[38;5;21;01mutils\u001B[39;00m\u001B[38;5;21;01m.\u001B[39;00m\u001B[38;5;21;01m_tags\u001B[39;00m \u001B[38;5;28;01mimport\u001B[39;00m (\n\u001B[1;32m     20\u001B[0m     _DEFAULT_TAGS,\n\u001B[1;32m     21\u001B[0m )\n",
      "File \u001B[0;32m~/anaconda3/envs/nn-meter/lib/python3.10/site-packages/sklearn/utils/__init__.py:17\u001B[0m\n\u001B[1;32m     15\u001B[0m \u001B[38;5;28;01mimport\u001B[39;00m \u001B[38;5;21;01mwarnings\u001B[39;00m\n\u001B[1;32m     16\u001B[0m \u001B[38;5;28;01mimport\u001B[39;00m \u001B[38;5;21;01mnumpy\u001B[39;00m \u001B[38;5;28;01mas\u001B[39;00m \u001B[38;5;21;01mnp\u001B[39;00m\n\u001B[0;32m---> 17\u001B[0m \u001B[38;5;28;01mfrom\u001B[39;00m \u001B[38;5;21;01mscipy\u001B[39;00m\u001B[38;5;21;01m.\u001B[39;00m\u001B[38;5;21;01msparse\u001B[39;00m \u001B[38;5;28;01mimport\u001B[39;00m issparse\n\u001B[1;32m     19\u001B[0m \u001B[38;5;28;01mfrom\u001B[39;00m \u001B[38;5;21;01m.\u001B[39;00m\u001B[38;5;21;01mmurmurhash\u001B[39;00m \u001B[38;5;28;01mimport\u001B[39;00m murmurhash3_32\n\u001B[1;32m     20\u001B[0m \u001B[38;5;28;01mfrom\u001B[39;00m \u001B[38;5;21;01m.\u001B[39;00m\u001B[38;5;21;01mclass_weight\u001B[39;00m \u001B[38;5;28;01mimport\u001B[39;00m compute_class_weight, compute_sample_weight\n",
      "File \u001B[0;32m~/anaconda3/envs/nn-meter/lib/python3.10/site-packages/scipy/sparse/__init__.py:294\u001B[0m\n\u001B[1;32m    291\u001B[0m \u001B[38;5;28;01mimport\u001B[39;00m \u001B[38;5;21;01mwarnings\u001B[39;00m \u001B[38;5;28;01mas\u001B[39;00m \u001B[38;5;21;01m_warnings\u001B[39;00m\n\u001B[1;32m    293\u001B[0m \u001B[38;5;28;01mfrom\u001B[39;00m \u001B[38;5;21;01m.\u001B[39;00m\u001B[38;5;21;01m_base\u001B[39;00m \u001B[38;5;28;01mimport\u001B[39;00m \u001B[38;5;241m*\u001B[39m\n\u001B[0;32m--> 294\u001B[0m \u001B[38;5;28;01mfrom\u001B[39;00m \u001B[38;5;21;01m.\u001B[39;00m\u001B[38;5;21;01m_csr\u001B[39;00m \u001B[38;5;28;01mimport\u001B[39;00m \u001B[38;5;241m*\u001B[39m\n\u001B[1;32m    295\u001B[0m \u001B[38;5;28;01mfrom\u001B[39;00m \u001B[38;5;21;01m.\u001B[39;00m\u001B[38;5;21;01m_csc\u001B[39;00m \u001B[38;5;28;01mimport\u001B[39;00m \u001B[38;5;241m*\u001B[39m\n\u001B[1;32m    296\u001B[0m \u001B[38;5;28;01mfrom\u001B[39;00m \u001B[38;5;21;01m.\u001B[39;00m\u001B[38;5;21;01m_lil\u001B[39;00m \u001B[38;5;28;01mimport\u001B[39;00m \u001B[38;5;241m*\u001B[39m\n",
      "File \u001B[0;32m~/anaconda3/envs/nn-meter/lib/python3.10/site-packages/scipy/sparse/_csr.py:11\u001B[0m\n\u001B[1;32m      9\u001B[0m \u001B[38;5;28;01mfrom\u001B[39;00m \u001B[38;5;21;01m.\u001B[39;00m\u001B[38;5;21;01m_matrix\u001B[39;00m \u001B[38;5;28;01mimport\u001B[39;00m spmatrix\n\u001B[1;32m     10\u001B[0m \u001B[38;5;28;01mfrom\u001B[39;00m \u001B[38;5;21;01m.\u001B[39;00m\u001B[38;5;21;01m_base\u001B[39;00m \u001B[38;5;28;01mimport\u001B[39;00m _spbase, sparray\n\u001B[0;32m---> 11\u001B[0m \u001B[38;5;28;01mfrom\u001B[39;00m \u001B[38;5;21;01m.\u001B[39;00m\u001B[38;5;21;01m_sparsetools\u001B[39;00m \u001B[38;5;28;01mimport\u001B[39;00m (csr_tocsc, csr_tobsr, csr_count_blocks,\n\u001B[1;32m     12\u001B[0m                            get_csr_submatrix)\n\u001B[1;32m     13\u001B[0m \u001B[38;5;28;01mfrom\u001B[39;00m \u001B[38;5;21;01m.\u001B[39;00m\u001B[38;5;21;01m_sputils\u001B[39;00m \u001B[38;5;28;01mimport\u001B[39;00m upcast\n\u001B[1;32m     15\u001B[0m \u001B[38;5;28;01mfrom\u001B[39;00m \u001B[38;5;21;01m.\u001B[39;00m\u001B[38;5;21;01m_compressed\u001B[39;00m \u001B[38;5;28;01mimport\u001B[39;00m _cs_matrix\n",
      "\u001B[0;31mImportError\u001B[0m: numpy._core.multiarray failed to import"
     ]
    }
   ],
   "execution_count": 10
  },
  {
   "metadata": {},
   "cell_type": "code",
   "outputs": [],
   "execution_count": null,
   "source": ""
  }
 ],
 "metadata": {
  "interpreter": {
   "hash": "e8b26d4e88bfd67f05264bddcd3043513b547d3c68498482ebbb5473451a395f"
  },
  "kernelspec": {
   "display_name": "Python 3.6.10 64-bit ('py36-Jiahang')",
   "language": "python",
   "name": "python3"
  },
  "language_info": {
   "codemirror_mode": {
    "name": "ipython",
    "version": 3
   },
   "file_extension": ".py",
   "mimetype": "text/x-python",
   "name": "python",
   "nbconvert_exporter": "python",
   "pygments_lexer": "ipython3",
   "version": "3.6.10"
  },
  "orig_nbformat": 4
 },
 "nbformat": 4,
 "nbformat_minor": 2
}
